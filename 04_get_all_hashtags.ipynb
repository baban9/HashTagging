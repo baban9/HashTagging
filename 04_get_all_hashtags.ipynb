{
 "cells": [
  {
   "cell_type": "code",
   "execution_count": 16,
   "metadata": {},
   "outputs": [],
   "source": [
    "import pandas as pd\n",
    "import os\n",
    "import itertools\n",
    "from collections import Counter\n",
    "from tqdm import tqdm"
   ]
  },
  {
   "cell_type": "code",
   "execution_count": 17,
   "metadata": {},
   "outputs": [],
   "source": [
    "folder_path = r\"C:\\Users\\Baban\\Desktop\\pp\\insta_data_folder\\text_files\\\\\"\n",
    "hash_combination = []\n",
    "file_count = 0\n",
    "FILTER_THRS = 0.1\n",
    "hashtag = \"fashion\"\n",
    "completed = set()\n",
    "num_posts = 10"
   ]
  },
  {
   "cell_type": "code",
   "execution_count": 18,
   "metadata": {},
   "outputs": [],
   "source": [
    "files = os.listdir(folder_path)"
   ]
  },
  {
   "cell_type": "code",
   "execution_count": 19,
   "metadata": {},
   "outputs": [
    {
     "name": "stderr",
     "output_type": "stream",
     "text": [
      "100%|██████████| 246/246 [00:00<00:00, 2989.59it/s]\n"
     ]
    }
   ],
   "source": [
    "for file in tqdm(files):\n",
    "    loc = folder_path + file\n",
    "    hash_list = []\n",
    "    with open(loc, \"r\", encoding=\"utf8\") as handler:\n",
    "        data = handler.read() \n",
    "    handler.close() \n",
    "    for token in data.split():\n",
    "        if token.startswith(\"#\"):\n",
    "            if token.count(\"#\") > 1:\n",
    "                token_hashtags = \" #\".join(token.split(\"#\")).split()\n",
    "                for tok_ in token_hashtags:\n",
    "                    if len(tok_.strip()[1:]) > 1:\n",
    "                        hash_list.append(tok_.strip())\n",
    "            else:\n",
    "                if len(token[1:]) > 1:\n",
    "                    hash_list.append(token)\n",
    "    hash_combination.extend(list(itertools.product(hash_list,hash_list)))\n",
    "    file_count += 1"
   ]
  },
  {
   "cell_type": "code",
   "execution_count": 21,
   "metadata": {},
   "outputs": [],
   "source": [
    "pair_counter = Counter([x for x in hash_combination if x[0] != x[1]])\n",
    "results = sorted([[v, k[0], k[1]] for k, v in pair_counter.items()])"
   ]
  },
  {
   "cell_type": "code",
   "execution_count": 23,
   "metadata": {},
   "outputs": [
    {
     "name": "stderr",
     "output_type": "stream",
     "text": [
      "100%|██████████| 65946/65946 [03:38<00:00, 302.38it/s]\n"
     ]
    }
   ],
   "source": [
    "cache_ = [] \n",
    "clean_results = []\n",
    "for value, left_, right_ in tqdm(results):\n",
    "    if (left_, right_) not in cache_ or (right_, left_) not in cache_:\n",
    "        cache_.append(tuple([left_, right_]))\n",
    "        cache_.append(tuple([right_, left_]))\n",
    "        clean_results.append([value, left_, right_])\n",
    "\n"
   ]
  },
  {
   "cell_type": "code",
   "execution_count": 24,
   "metadata": {},
   "outputs": [],
   "source": [
    "df = pd.DataFrame(clean_results, columns=['weight', \"left\", 'right'])\n",
    "df.to_csv(f\"save_inferences/hashtag.csv\", index=False)"
   ]
  },
  {
   "cell_type": "code",
   "execution_count": null,
   "metadata": {},
   "outputs": [],
   "source": []
  }
 ],
 "metadata": {
  "kernelspec": {
   "display_name": "win_env",
   "language": "python",
   "name": "python3"
  },
  "language_info": {
   "codemirror_mode": {
    "name": "ipython",
    "version": 3
   },
   "file_extension": ".py",
   "mimetype": "text/x-python",
   "name": "python",
   "nbconvert_exporter": "python",
   "pygments_lexer": "ipython3",
   "version": "3.9.13"
  },
  "orig_nbformat": 4
 },
 "nbformat": 4,
 "nbformat_minor": 2
}
